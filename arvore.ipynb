{
 "cells": [
  {
   "cell_type": "code",
   "execution_count": 101,
   "metadata": {},
   "outputs": [
    {
     "data": {
      "text/plain": [
       "('car.data', <http.client.HTTPMessage at 0x2156919d0d0>)"
      ]
     },
     "execution_count": 101,
     "metadata": {},
     "output_type": "execute_result"
    }
   ],
   "source": [
    "import urllib.request\n",
    "url = 'https://archive.ics.uci.edu/ml/machine-learning-databases/car/car.data'\n",
    "urllib.request.urlretrieve(url, 'car.data')\n"
   ]
  },
  {
   "cell_type": "code",
   "execution_count": 102,
   "metadata": {},
   "outputs": [
    {
     "data": {
      "text/plain": [
       "((1728, 6), (1728,))"
      ]
     },
     "execution_count": 102,
     "metadata": {},
     "output_type": "execute_result"
    }
   ],
   "source": [
    "import numpy as np\n",
    "data = np.loadtxt('car.data', dtype=\"str\", delimiter=',')\n",
    "X, y = data[:,:-1], data[:,-1]\n",
    "X.shape, y.shape"
   ]
  },
  {
   "cell_type": "code",
   "execution_count": 103,
   "metadata": {},
   "outputs": [
    {
     "name": "stdout",
     "output_type": "stream",
     "text": [
      "{'high', 'low', 'vhigh', 'med'}\n",
      "{'high', 'low', 'vhigh', 'med'}\n",
      "{'2', '5more', '3', '4'}\n",
      "{'2', 'more', '4'}\n",
      "{'big', 'small', 'med'}\n",
      "{'high', 'low', 'med'}\n",
      "1728\n"
     ]
    }
   ],
   "source": [
    "combinacoes = 1\n",
    "for i in range(X.shape[1]):\n",
    "    valores = set(X[:,i])\n",
    "    combinacoes *= len(valores)\n",
    "    print(valores)\n",
    "print(combinacoes)\n"
   ]
  },
  {
   "cell_type": "code",
   "execution_count": 104,
   "metadata": {},
   "outputs": [
    {
     "data": {
      "text/plain": [
       "(0.7002314814814815, array([ True,  True,  True, ...,  True, False, False]))"
      ]
     },
     "execution_count": 104,
     "metadata": {},
     "output_type": "execute_result"
    }
   ],
   "source": [
    "#algoritmo ZeroR\n",
    "from sklearn.metrics import accuracy_score\n",
    "import numpy as np\n",
    "from collections import Counter\n",
    "\n",
    "def maisFrequente(y):\n",
    "    return Counter(y.flat).most_common(1)[0][0]\n",
    "class ZeroR():\n",
    "    def fit(self, X, y):\n",
    "        self.resposta = maisFrequente(y)\n",
    "    def predict(self, X):\n",
    "        y = np.empty((X.shape[0]), dtype='<U5')\n",
    "        y[:] = self.resposta\n",
    "        return y\n",
    "modelo = ZeroR()\n",
    "modelo.fit(X,y)\n",
    "ypred = modelo.predict(X)\n",
    "accuracy_score(y, ypred), (ypred == y)\n"
   ]
  },
  {
   "cell_type": "code",
   "execution_count": 105,
   "metadata": {},
   "outputs": [
    {
     "data": {
      "text/plain": [
       "0.457283763074417"
      ]
     },
     "execution_count": 105,
     "metadata": {},
     "output_type": "execute_result"
    }
   ],
   "source": [
    "def impureza(y):\n",
    "    labels = list(set(y))\n",
    "    labels.sort()\n",
    "    probabilidades = np.zeros((len(labels),))\n",
    "    for i,k in enumerate(labels):\n",
    "        probabilidades[i] = sum(y==k)/len(y)\n",
    "    result = 1 - sum(probabilidades**2)\n",
    "    return result\n",
    "\n",
    "ytmp = y[:]\n",
    "valor = impureza(ytmp)\n",
    "valor "
   ]
  },
  {
   "cell_type": "code",
   "execution_count": 106,
   "metadata": {},
   "outputs": [
    {
     "data": {
      "text/plain": [
       "0.44934645776177407"
      ]
     },
     "execution_count": 106,
     "metadata": {},
     "output_type": "execute_result"
    }
   ],
   "source": [
    "# calculando a impureza de cada característica\n",
    "def impurezaValor(x, y, valor):\n",
    "    iguais = x==valor\n",
    "    impurezaIguais = impureza(y[iguais])\n",
    "    propIguais = sum(iguais)/len(y)\n",
    "    impurezaDiferentes = impureza(y[~iguais])\n",
    "    propDiferentes = sum(~iguais)/len(y)\n",
    "    impurezaTotal = propIguais*impurezaIguais + propDiferentes*impurezaDiferentes\n",
    "    return impurezaTotal\n",
    "impurezaValor(X[:,0],y,'vhigh')\n",
    "    "
   ]
  },
  {
   "cell_type": "code",
   "execution_count": 107,
   "metadata": {},
   "outputs": [
    {
     "data": {
      "text/plain": [
       "(0.38615712609310704, 3, '2')"
      ]
     },
     "execution_count": 107,
     "metadata": {},
     "output_type": "execute_result"
    }
   ],
   "source": [
    "# função def para encontrar a impureza minima\n",
    "\n",
    "def impurezaMinima(X, y):\n",
    "    impurezas = []\n",
    "    caracteristicasValores = []\n",
    "    for i in range(X.shape[1]):\n",
    "        valores = sorted(list(set(X[:,i])))\n",
    "        for valor in valores:\n",
    "            caracteristicasValores.append([i,valor])\n",
    "            impurezaValorCaracteristica = impurezaValor(X[:,i], y, valor)\n",
    "            impurezas.append(impurezaValorCaracteristica)\n",
    "    caracteristicasValores = np.array(caracteristicasValores)\n",
    "    impurezas = np.array(impurezas)\n",
    "    menorImpureza = np.argmin(impurezas)\n",
    "    caracteristica, valor = caracteristicasValores[menorImpureza]\n",
    "    return impurezas[menorImpureza], int(caracteristica), valor\n",
    "impurezaMinima(X, y) \n"
   ]
  },
  {
   "cell_type": "code",
   "execution_count": 108,
   "metadata": {},
   "outputs": [
    {
     "data": {
      "text/plain": [
       "(0.7002314814814815, array([ True,  True,  True, ...,  True, False, False]))"
      ]
     },
     "execution_count": 108,
     "metadata": {},
     "output_type": "execute_result"
    }
   ],
   "source": [
    "#arvore de decisões em que os atributos são discretos, logo é um problema de classificação.\n",
    "from sklearn.metrics import accuracy_score\n",
    "import numpy as np\n",
    "from collections import Counter\n",
    "from sklearn.base import BaseEstimator, ClassifierMixin\n",
    "\n",
    "def maisFrequente(y):\n",
    "    return Counter(y.flat).most_common(1)[0][0]\n",
    "class Arvore(BaseEstimator, ClassifierMixin):\n",
    "    def fit(self, X, y):\n",
    "        self.impureza,self.caracteristica,self.valor = impurezaMinima(X,y)\n",
    "        iguais = X[:,self.caracteristica] == self.valor\n",
    "        if sum(iguais)>0 and sum(~iguais)>0:\n",
    "            self.iguais = Arvore()\n",
    "            self.iguais.fit(X[iguais,:],y[iguais])\n",
    "            self.diferentes = Arvore()\n",
    "            self.diferentes.fit(X[~iguais,:],y[~iguais])\n",
    "        else:\n",
    "            self.resposta = maisFrequente(y)\n",
    "    def predict(self, X):\n",
    "        y = np.empty((X.shape[0]), dtype='<U5')\n",
    "        if hasattr(self, 'resposta'):\n",
    "            y[:] = self.resposta\n",
    "        else:\n",
    "            iguais = X[:,self.caracteristica] == self.valor\n",
    "            y[iguais] = self.iguais.predict(X[iguais,:])\n",
    "            y[~iguais] = self.iguais.predict(X[~iguais,:])\n",
    "\n",
    "        return y\n",
    "modelo = Arvore()\n",
    "modelo.fit(X,y)\n",
    "ypred = modelo.predict(X)\n",
    "accuracy_score(y, ypred), (ypred == y)"
   ]
  },
  {
   "cell_type": "code",
   "execution_count": 109,
   "metadata": {},
   "outputs": [
    {
     "data": {
      "text/plain": [
       "(array([0.69942197, 0.69942197, 0.69942197, 0.70144928, 0.70144928]),\n",
       " 0.7002328893356791)"
      ]
     },
     "execution_count": 109,
     "metadata": {},
     "output_type": "execute_result"
    }
   ],
   "source": [
    "# usar cross validate e Mae para calcular o score caso o valor do array seja 100%. Array com 100% de acuracia implica em erro na hora produção.\n",
    "# nesse caso nao precisaria do fazer a validação cruzada.\n",
    "from sklearn.model_selection import cross_validate\n",
    "\n",
    "scores = cross_validate(Arvore(), X, y)\n",
    "scores['test_score'], np.mean(scores['test_score'])"
   ]
  },
  {
   "cell_type": "markdown",
   "metadata": {},
   "source": [
    "Atributos continuos # ValueError: Found input variables with inconsistent numbers of samples: [150, 2] \n",
    "\n"
   ]
  },
  {
   "cell_type": "code",
   "execution_count": 110,
   "metadata": {},
   "outputs": [],
   "source": [
    "from sklearn.datasets import load_iris\n",
    "iris = load_iris()\n",
    "X, y = iris.data[:2:], iris.target\n",
    "\n"
   ]
  },
  {
   "cell_type": "code",
   "execution_count": null,
   "metadata": {},
   "outputs": [],
   "source": [
    "#algoritmo ZeroR\n",
    "from sklearn.metrics import accuracy_score\n",
    "import numpy as np\n",
    "from collections import Counter\n",
    "\n",
    "def maisFrequente(y):\n",
    "    return Counter(y.flat).most_common(1)[0][0]\n",
    "class ZeroR():\n",
    "    def fit(self, X, y):\n",
    "        self.resposta = maisFrequente(y)\n",
    "    def predict(self, X):\n",
    "        y = np.empty((X.shape[0]))\n",
    "        y[:] = self.resposta\n",
    "        return y\n",
    "modelo = ZeroR()\n",
    "modelo.fit(X,y)\n",
    "ypred = modelo.predict(X)\n",
    "accuracy_score(y, ypred), (ypred == y)"
   ]
  },
  {
   "cell_type": "code",
   "execution_count": null,
   "metadata": {},
   "outputs": [],
   "source": [
    "#arvore de decisões em que os atributos são contínuos (numéricos), logo é um problema de Regressão.\n",
    "from sklearn.metrics import accuracy_score\n",
    "import numpy as np\n",
    "from collections import Counter\n",
    "from sklearn.base import BaseEstimator, ClassifierMixin\n",
    "\n",
    "def maisFrequente(y):\n",
    "    return Counter(y.flat).most_common(1)[0][0]\n",
    "class Arvore(BaseEstimator, ClassifierMixin):\n",
    "    def __init__(self):\n",
    "        self.caracteristica = 2\n",
    "    def fit(self, X, y):\n",
    "        self.valor = np.mean(X[:,self.caracteristica])\n",
    "        maiores = X[:,self.caracteristica] > self.valor\n",
    "        if sum(maiores)>0 and sum(~maiores)>0:\n",
    "            self.maiores = Arvore()\n",
    "            self.maiores.fit(X[maiores,:],y[maiores])\n",
    "            self.menores = Arvore()\n",
    "            self.menores.fit(X[~maiores,:],y[~maiores])\n",
    "        else:\n",
    "            self.resposta = maisFrequente(y)\n",
    "    def predict(self, X):\n",
    "        y = np.empty((X.shape[0]))\n",
    "        if hasattr(self, 'resposta'):\n",
    "            y[:] = self.resposta\n",
    "        else:\n",
    "            maiores = X[:,self.caracteristica] > self.valor\n",
    "            y[maiores] = self.maiores.predict(X[maiores,:])\n",
    "            y[~maiores] = self.maiores.predict(X[~maiores,:])\n",
    "\n",
    "        return y\n",
    "modelo = Arvore()\n",
    "modelo.fit(X,y)\n",
    "ypred = modelo.predict(X)\n",
    "accuracy_score(y, ypred), (ypred == y)"
   ]
  },
  {
   "cell_type": "code",
   "execution_count": null,
   "metadata": {},
   "outputs": [],
   "source": [
    "#vizualizar as regiões de decisão\n",
    "import matplotlib.pyplot as plt\n",
    "\n",
    "def plotDecisacao(modelo, X, y):\n",
    "    modelo.fit(X, y)\n",
    "    x0s = np.linspace(np.min(X[:,0])-0.2, np.max(X[:,0])+0.2, 100)\n",
    "    x1s = np.linspace(np.min(X[:,1])-0.2, np.max(X[:,1])+0.2, 100)\n",
    "    x0, x1 = np.meshgrid(x0s, x1s)\n",
    "    Xdec = np.c_[x0.ravel(), x1.ravel()]\n",
    "    ypred = modelo.predict(Xdec)\n",
    "    plt.contourf(x0, x1, ypred.reshape(x0.shape), alpha=0.25)\n",
    "    for k in set(y): \n",
    "        plt.plot(X[:,0][y==k], X[:,1][y==k], 'o', label=f\"{iris.target_names[k]} [{k}]\")\n",
    "    plt.xlabel(f\"X[0]: {iris.feature_names[0]}\")\n",
    "    plt.ylabel(f\"X[1]: {iris.feature_names[1]}\")\n",
    "    plt.show() \n",
    "plotDecisacao(Arvore(), X, y)"
   ]
  },
  {
   "cell_type": "code",
   "execution_count": null,
   "metadata": {},
   "outputs": [],
   "source": [
    "from sklearn.tree import DecisionTreeClassifier\n",
    "plotDecisacao(DecisionTreeClassifier(), X, y)\n"
   ]
  },
  {
   "cell_type": "code",
   "execution_count": null,
   "metadata": {},
   "outputs": [],
   "source": [
    "from sklearn.neighbors import KNeighborsClassifier\n",
    "plotDecisacao(KNeighborsClassifier(), X, y)"
   ]
  },
  {
   "cell_type": "code",
   "execution_count": null,
   "metadata": {},
   "outputs": [],
   "source": [
    "from sklearn.linear_model import LogisticRegression\n",
    "plotDecisacao(LogisticRegression(), X, y)"
   ]
  }
 ],
 "metadata": {
  "interpreter": {
   "hash": "6a5cd576f049c40808befa6b86db46ed2a04adf484378ead481f8d7a8b894f57"
  },
  "kernelspec": {
   "display_name": "Python 3.9.5 64-bit (system)",
   "language": "python",
   "name": "python3"
  },
  "language_info": {
   "codemirror_mode": {
    "name": "ipython",
    "version": 3
   },
   "file_extension": ".py",
   "mimetype": "text/x-python",
   "name": "python",
   "nbconvert_exporter": "python",
   "pygments_lexer": "ipython3",
   "version": "3.9.5"
  },
  "orig_nbformat": 4
 },
 "nbformat": 4,
 "nbformat_minor": 2
}
