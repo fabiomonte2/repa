{
 "cells": [
  {
   "cell_type": "code",
   "execution_count": 44,
   "metadata": {},
   "outputs": [
    {
     "data": {
      "text/plain": [
       "dict_keys(['data', 'target', 'frame', 'target_names', 'DESCR', 'feature_names', 'filename', 'data_module'])"
      ]
     },
     "execution_count": 44,
     "metadata": {},
     "output_type": "execute_result"
    }
   ],
   "source": [
    "from sklearn.datasets import load_iris\n",
    "iris = load_iris() \n",
    "iris.keys()"
   ]
  },
  {
   "cell_type": "code",
   "execution_count": 45,
   "metadata": {},
   "outputs": [
    {
     "data": {
      "text/plain": [
       "((150, 4), (150,), {0, 1, 2})"
      ]
     },
     "execution_count": 45,
     "metadata": {},
     "output_type": "execute_result"
    }
   ],
   "source": [
    "X, y = iris.data, iris.target\n",
    "X.shape, y.shape, set(y) "
   ]
  },
  {
   "cell_type": "code",
   "execution_count": 46,
   "metadata": {},
   "outputs": [
    {
     "data": {
      "image/png": "[encoded data removed]",
      "text/plain": [
       "<Figure size 432x288 with 1 Axes>"
      ]
     },
     "metadata": {
      "needs_background": "light"
     },
     "output_type": "display_data"
    },
    {
     "data": {
      "image/png": "[encoded data removed]",
      "text/plain": [
       "<Figure size 432x288 with 1 Axes>"
      ]
     },
     "metadata": {
      "needs_background": "light"
     },
     "output_type": "display_data"
    },
    {
     "data": {
      "image/png": "[encoded data removed]",
      "text/plain": [
       "<Figure size 432x288 with 1 Axes>"
      ]
     },
     "metadata": {
      "needs_background": "light"
     },
     "output_type": "display_data"
    }
   ],
   "source": [
    "import matplotlib.pyplot as plt\n",
    "i, j = 3,2\n",
    "plt.xlabel(f\"{i}: {iris.feature_names[i]}\")\n",
    "plt.ylabel(f\"{j}: {iris.feature_names[j]}\")\n",
    "for k in set(y):\n",
    "    plt.plot(X[:,i][y==k], X[:,j][y==k], \"o\", label=f\"{iris.target_names[k]}\")\n",
    "    plt.legend()\n",
    "    plt.show()"
   ]
  },
  {
   "cell_type": "code",
   "execution_count": 47,
   "metadata": {},
   "outputs": [
    {
     "data": {
      "text/plain": [
       "(150, 2)"
      ]
     },
     "execution_count": 47,
     "metadata": {},
     "output_type": "execute_result"
    }
   ],
   "source": [
    "X32 = X [:, [3,2]]\n",
    "X32.shape"
   ]
  },
  {
   "cell_type": "code",
   "execution_count": 48,
   "metadata": {},
   "outputs": [],
   "source": [
    "import numpy as np\n",
    "class vizinho():\n",
    "    def fit(self, X, y):\n",
    "        self.X = X\n",
    "        self.y = y\n",
    "    def distancia(self, X):\n",
    "        diferenca = self.X - X\n",
    "        quadrado = diferenca ** 2\n",
    "        soma = np.sum(quadrado, axis=1)\n",
    "        raiz = np.sqrt(soma)\n",
    "        return raiz \n",
    "    def predict(self, X):\n",
    "        ypred = np.empty((X.shape[0],))\n",
    "        for i in range(X.shape[0]):\n",
    "            distancias = self.distancia(X[i])\n",
    "            vizinho = np.argmin(distancias)\n",
    "            ypred[i] = self.y[vizinho]\n",
    "            return ypred"
   ]
  },
  {
   "cell_type": "code",
   "execution_count": 49,
   "metadata": {},
   "outputs": [
    {
     "data": {
      "text/plain": [
       "0.3333333333333333"
      ]
     },
     "execution_count": 49,
     "metadata": {},
     "output_type": "execute_result"
    }
   ],
   "source": [
    "from sklearn.metrics import accuracy_score\n",
    "modelo = vizinho()\n",
    "modelo.fit(X32, y)\n",
    "ypred = modelo.predict(X32)\n",
    "acuracia = accuracy_score(y, ypred)\n",
    "acuracia "
   ]
  },
  {
   "cell_type": "code",
   "execution_count": 50,
   "metadata": {},
   "outputs": [
    {
     "data": {
      "text/plain": [
       "((120, 4), (30, 4))"
      ]
     },
     "execution_count": 50,
     "metadata": {},
     "output_type": "execute_result"
    }
   ],
   "source": [
    "ntreino = int(len(y)*0.8)\n",
    "X_treino, X_teste = X[:ntreino], X[ntreino:]\n",
    "X_treino.shape, X_teste.shape"
   ]
  },
  {
   "cell_type": "code",
   "execution_count": 51,
   "metadata": {},
   "outputs": [],
   "source": [
    "y_treino, y_teste = y[:ntreino], y[ntreino:]"
   ]
  },
  {
   "cell_type": "code",
   "execution_count": 53,
   "metadata": {},
   "outputs": [
    {
     "data": {
      "text/plain": [
       "0.03333333333333333"
      ]
     },
     "execution_count": 53,
     "metadata": {},
     "output_type": "execute_result"
    }
   ],
   "source": [
    "from sklearn.metrics import accuracy_score\n",
    "modelo = vizinho()\n",
    "modelo.fit(X_treino, y_treino)\n",
    "ypred = modelo.predict(X_teste)\n",
    "acuracia = accuracy_score(y_teste, ypred)\n",
    "acuracia "
   ]
  },
  {
   "cell_type": "code",
   "execution_count": 61,
   "metadata": {},
   "outputs": [
    {
     "data": {
      "text/plain": [
       "<function matplotlib.pyplot.show(close=None, block=None)>"
      ]
     },
     "execution_count": 61,
     "metadata": {},
     "output_type": "execute_result"
    },
    {
     "data": {
      "image/png": "[encoded data removed]",
      "text/plain": [
       "<Figure size 432x288 with 1 Axes>"
      ]
     },
     "metadata": {
      "needs_background": "light"
     },
     "output_type": "display_data"
    }
   ],
   "source": [
    "import numpy as np \n",
    "import matplotlib.pyplot as plt\n",
    "plt.bar(list(range(X.shape[1])), np.mean(X, axis=0))\n",
    "plt.show"
   ]
  },
  {
   "cell_type": "code",
   "execution_count": 62,
   "metadata": {},
   "outputs": [
    {
     "data": {
      "text/plain": [
       "<function matplotlib.pyplot.show(close=None, block=None)>"
      ]
     },
     "execution_count": 62,
     "metadata": {},
     "output_type": "execute_result"
    },
    {
     "data": {
      "image/png": "[encoded data removed]",
      "text/plain": [
       "<Figure size 432x288 with 1 Axes>"
      ]
     },
     "metadata": {
      "needs_background": "light"
     },
     "output_type": "display_data"
    }
   ],
   "source": [
    "from sklearn.preprocessing import StandardScaler\n",
    "scaler = StandardScaler()\n",
    "X_new = scaler.fit_transform(X)\n",
    "\n",
    "plt.bar(list(range(X.shape[1])), np.mean(X_new, axis=0))\n",
    "plt.show"
   ]
  },
  {
   "cell_type": "code",
   "execution_count": 63,
   "metadata": {},
   "outputs": [
    {
     "name": "stdout",
     "output_type": "stream",
     "text": [
      "Sem padronização 0.9733333333333334\n"
     ]
    }
   ],
   "source": [
    "from sklearn.model_selection import cross_validate\n",
    "from sklearn.linear_model import LogisticRegression\n",
    "\n",
    "modelo = LogisticRegression()\n",
    "scores = cross_validate(modelo, X, y)\n",
    "sempad = np.mean(scores['test_score'])\n",
    "print(f\"Sem padronização {sempad}\")"
   ]
  },
  {
   "cell_type": "code",
   "execution_count": 64,
   "metadata": {},
   "outputs": [
    {
     "name": "stdout",
     "output_type": "stream",
     "text": [
      "Com padronização 0.9600000000000002\n"
     ]
    }
   ],
   "source": [
    "scores = cross_validate(modelo, X_new, y)\n",
    "compad = np.mean(scores['test_score'])\n",
    "print(f\"Com padronização {compad}\")"
   ]
  },
  {
   "cell_type": "code",
   "execution_count": 65,
   "metadata": {},
   "outputs": [
    {
     "name": "stdout",
     "output_type": "stream",
     "text": [
      "alinhado 0.9600000000000002\n"
     ]
    }
   ],
   "source": [
    "from sklearn.pipeline import Pipeline\n",
    "\n",
    "modelo = Pipeline([\n",
    "    (\"padronizacao\", scaler),\n",
    "    (\"classificador\", LogisticRegression())\n",
    "])\n",
    "\n",
    "scores = cross_validate(modelo, X, y)\n",
    "alinha = np.mean(scores['test_score'])\n",
    "print(f\"alinhado {alinha}\")"
   ]
  },
  {
   "cell_type": "code",
   "execution_count": 70,
   "metadata": {},
   "outputs": [
    {
     "name": "stdout",
     "output_type": "stream",
     "text": [
      "Com padronização 0.9600000000000002\n"
     ]
    }
   ],
   "source": [
    "scores = cross_validate(modelo, X_new, y)\n",
    "compad = np.mean(scores['test_score'])\n",
    "print(f\"Com padronização {compad}\")"
   ]
  },
  {
   "cell_type": "code",
   "execution_count": 66,
   "metadata": {},
   "outputs": [
    {
     "data": {
      "image/png": "[encoded data removed]",
      "text/plain": [
       "<Figure size 432x288 with 1 Axes>"
      ]
     },
     "metadata": {
      "needs_background": "light"
     },
     "output_type": "display_data"
    }
   ],
   "source": [
    "colunas = [\"sem scaler\", \"com scaler\", \"aninhado\"]\n",
    "plt.bar(colunas, [sempad, compad, alinha])\n",
    "plt.show()"
   ]
  },
  {
   "cell_type": "code",
   "execution_count": 67,
   "metadata": {},
   "outputs": [
    {
     "data": {
      "image/png": "[encoded data removed]",
      "text/plain": [
       "<Figure size 432x288 with 1 Axes>"
      ]
     },
     "metadata": {
      "needs_background": "light"
     },
     "output_type": "display_data"
    }
   ],
   "source": [
    "plt.bar(colunas, np.array([sempad, compad, alinha])-0.95, bottom=0.95)\n",
    "plt.show()"
   ]
  },
  {
   "cell_type": "code",
   "execution_count": 71,
   "metadata": {},
   "outputs": [
    {
     "name": "stdout",
     "output_type": "stream",
     "text": [
      "[-0.18257419 -0.         -0.25819889 -0.18257419 -0.        ]\n",
      "Sem padronização: -0.12466945228345436\n"
     ]
    }
   ],
   "source": [
    "# Aplicação KNN\n",
    "from sklearn.metrics import make_scorer, mean_squared_error\n",
    "from sklearn.neighbors import KNeighborsClassifier\n",
    "from sklearn.model_selection import cross_validate\n",
    "import numpy as np \n",
    "\n",
    "modelo = KNeighborsClassifier()\n",
    "scores = cross_validate(modelo, X, y, scoring=make_scorer\n",
    "(mean_squared_error, greater_is_better=False, squared=False))\n",
    "print(scores['test_score'])\n",
    "sempad = np.mean(scores['test_score'])\n",
    "print(f\"Sem padronização: {sempad}\")"
   ]
  },
  {
   "cell_type": "code",
   "execution_count": 72,
   "metadata": {},
   "outputs": [
    {
     "data": {
      "text/plain": [
       "GridSearchCV(estimator=KNeighborsClassifier(),\n",
       "             param_grid={'n_neighbors': [3, 5, 7]},\n",
       "             scoring=make_scorer(mean_squared_error, greater_is_better=False, squared=False))"
      ]
     },
     "execution_count": 72,
     "metadata": {},
     "output_type": "execute_result"
    }
   ],
   "source": [
    "from sklearn.model_selection import GridSearchCV\n",
    "\n",
    "parametros = {'n_neighbors': [3,5,7]}\n",
    "\n",
    "modelo = GridSearchCV(KNeighborsClassifier(), parametros, \n",
    "scoring=make_scorer(mean_squared_error, greater_is_better=False,\n",
    "squared=False))\n",
    "modelo.fit(X, y)"
   ]
  },
  {
   "cell_type": "code",
   "execution_count": 73,
   "metadata": {},
   "outputs": [
    {
     "data": {
      "text/plain": [
       "{'mean_fit_time': array([0.00164518, 0.        , 0.        ]),\n",
       " 'std_fit_time': array([0.00329037, 0.        , 0.        ]),\n",
       " 'mean_score_time': array([0.00010118, 0.00158997, 0.00160255]),\n",
       " 'std_score_time': array([0.00020237, 0.00317993, 0.00320511]),\n",
       " 'param_n_neighbors': masked_array(data=[3, 5, 7],\n",
       "              mask=[False, False, False],\n",
       "        fill_value='?',\n",
       "             dtype=object),\n",
       " 'params': [{'n_neighbors': 3}, {'n_neighbors': 5}, {'n_neighbors': 7}],\n",
       " 'split0_test_score': array([-0.18257419, -0.18257419, -0.18257419]),\n",
       " 'split1_test_score': array([-0.18257419, -0.        , -0.        ]),\n",
       " 'split2_test_score': array([-0.25819889, -0.25819889, -0.18257419]),\n",
       " 'split3_test_score': array([-0.18257419, -0.18257419, -0.18257419]),\n",
       " 'split4_test_score': array([-0., -0., -0.]),\n",
       " 'mean_test_score': array([-0.16118429, -0.12466945, -0.10954451]),\n",
       " 'std_test_score': array([0.08574939, 0.1054713 , 0.08944272]),\n",
       " 'rank_test_score': array([3, 2, 1])}"
      ]
     },
     "execution_count": 73,
     "metadata": {},
     "output_type": "execute_result"
    }
   ],
   "source": [
    "modelo.cv_results_"
   ]
  },
  {
   "cell_type": "code",
   "execution_count": 74,
   "metadata": {},
   "outputs": [
    {
     "data": {
      "text/plain": [
       "KNeighborsClassifier(n_neighbors=7)"
      ]
     },
     "execution_count": 74,
     "metadata": {},
     "output_type": "execute_result"
    }
   ],
   "source": [
    "modelo.best_estimator_"
   ]
  },
  {
   "cell_type": "code",
   "execution_count": 76,
   "metadata": {},
   "outputs": [
    {
     "data": {
      "text/plain": [
       "0.16329931618554522"
      ]
     },
     "execution_count": 76,
     "metadata": {},
     "output_type": "execute_result"
    }
   ],
   "source": [
    "from sklearn.metrics import mean_squared_error\n",
    "from math import sqrt\n",
    "\n",
    "ypred = modelo.predict(X)\n",
    "mse = mean_squared_error(y, ypred)\n",
    "sqrt(mse)"
   ]
  },
  {
   "cell_type": "code",
   "execution_count": 78,
   "metadata": {},
   "outputs": [
    {
     "name": "stdout",
     "output_type": "stream",
     "text": [
      "[-0.18257419 -0.         -0.18257419 -0.18257419 -0.        ]\n",
      "Sem padronização: -0.10954451150103321\n"
     ]
    }
   ],
   "source": [
    "scores = cross_validate(modelo, X, y, scoring=make_scorer\n",
    "(mean_squared_error, greater_is_better=False, squared=False))\n",
    "print(scores['test_score'])\n",
    "sempad = np.mean(scores['test_score'])\n",
    "print(f\"Sem padronização: {sempad}\")"
   ]
  },
  {
   "cell_type": "code",
   "execution_count": 79,
   "metadata": {},
   "outputs": [
    {
     "name": "stdout",
     "output_type": "stream",
     "text": [
      "[-0.18257419 -0.18257419 -0.25819889 -0.31622777 -0.        ]\n",
      "Com padronização: -0.18791500548682194\n"
     ]
    }
   ],
   "source": [
    "from sklearn.preprocessing import StandardScaler\n",
    "from sklearn.pipeline import Pipeline\n",
    "\n",
    "parametros = {'n_neighbors': [3,5,7]}\n",
    "\n",
    "GridSearchKNN = GridSearchCV(KNeighborsClassifier(), parametros, \n",
    "scoring='neg_mean_squared_error')\n",
    "\n",
    "modelo = Pipeline([\n",
    "    (\"padronizacao\", StandardScaler()),\n",
    "    (\"gsknn\", GridSearchKNN)\n",
    "])\n",
    "\n",
    "scores = cross_validate(modelo, X, y, scoring=make_scorer\n",
    "(mean_squared_error, greater_is_better=False, squared=False))\n",
    "print(scores['test_score'])\n",
    "compad = np.mean(scores['test_score'])\n",
    "print(f\"Com padronização: {compad}\")"
   ]
  },
  {
   "cell_type": "code",
   "execution_count": 80,
   "metadata": {},
   "outputs": [
    {
     "name": "stdout",
     "output_type": "stream",
     "text": [
      "[-0.18257419 -0.18257419 -0.25819889 -0.25819889 -0.        ]\n",
      "Com padronização: -0.17630923023288658\n"
     ]
    }
   ],
   "source": [
    "\n",
    "pipeline = Pipeline([\n",
    "    (\"padronizacao\", StandardScaler()),\n",
    "    (\"knn\", KNeighborsClassifier())\n",
    "])\n",
    "\n",
    "parametros = {'knn__n_neighbors': [3,5,7]}\n",
    "modelo = GridSearchCV(pipeline, parametros, \n",
    "scoring='neg_mean_squared_error')\n",
    "\n",
    "scores = cross_validate(modelo, X, y, scoring=make_scorer\n",
    "(mean_squared_error, greater_is_better=False, squared=False))\n",
    "print(scores['test_score'])\n",
    "compad = np.mean(scores['test_score'])\n",
    "print(f\"Com padronização: {compad}\")"
   ]
  }
 ],
 "metadata": {
  "interpreter": {
   "hash": "6a5cd576f049c40808befa6b86db46ed2a04adf484378ead481f8d7a8b894f57"
  },
  "kernelspec": {
   "display_name": "Python 3.9.5 64-bit (system)",
   "language": "python",
   "name": "python3"
  },
  "language_info": {
   "codemirror_mode": {
    "name": "ipython",
    "version": 3
   },
   "file_extension": ".py",
   "mimetype": "text/x-python",
   "name": "python",
   "nbconvert_exporter": "python",
   "pygments_lexer": "ipython3",
   "version": "3.9.5"
  },
  "orig_nbformat": 4
 },
 "nbformat": 4,
 "nbformat_minor": 2
}
