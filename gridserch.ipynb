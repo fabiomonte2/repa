{
 "cells": [
  {
   "cell_type": "code",
   "execution_count": 2,
   "metadata": {},
   "outputs": [
    {
     "data": {
      "text/plain": [
       "dict_keys(['data', 'target', 'frame', 'DESCR', 'feature_names', 'data_filename', 'target_filename', 'data_module'])"
      ]
     },
     "execution_count": 2,
     "metadata": {},
     "output_type": "execute_result"
    }
   ],
   "source": [
    "from sklearn.datasets import load_diabetes\n",
    "diabetes = load_diabetes()\n",
    "diabetes.keys()\n"
   ]
  },
  {
   "cell_type": "code",
   "execution_count": 3,
   "metadata": {},
   "outputs": [
    {
     "data": {
      "text/plain": [
       "((442, 10), (442,))"
      ]
     },
     "execution_count": 3,
     "metadata": {},
     "output_type": "execute_result"
    }
   ],
   "source": [
    "X, y = diabetes.data, diabetes.target\n",
    "X.shape, y.shape"
   ]
  },
  {
   "cell_type": "code",
   "execution_count": 5,
   "metadata": {},
   "outputs": [
    {
     "name": "stdout",
     "output_type": "stream",
     "text": [
      "[-56.2778101  -63.42066441 -59.63695849 -59.59086644 -61.70551029]\n",
      "Sem padronização: -60.126361947859564\n"
     ]
    }
   ],
   "source": [
    "from sklearn.metrics import make_scorer, mean_squared_error\n",
    "from sklearn.neighbors import KNeighborsRegressor\n",
    "from sklearn.model_selection import cross_validate\n",
    "import numpy as np \n",
    "\n",
    "modelo = KNeighborsRegressor()\n",
    "scores = cross_validate(modelo, X, y, scoring=make_scorer\n",
    "(mean_squared_error, greater_is_better=False, squared=False))\n",
    "print(scores['test_score'])\n",
    "sempad = np.mean(scores['test_score'])\n",
    "print(f\"Sem padronização: {sempad}\")\n",
    "\n"
   ]
  },
  {
   "cell_type": "code",
   "execution_count": 9,
   "metadata": {},
   "outputs": [
    {
     "data": {
      "text/plain": [
       "GridSearchCV(estimator=KNeighborsRegressor(),\n",
       "             param_grid={'n_neighbors': [3, 5, 7]},\n",
       "             scoring=make_scorer(mean_squared_error, greater_is_better=False, squared=False))"
      ]
     },
     "execution_count": 9,
     "metadata": {},
     "output_type": "execute_result"
    }
   ],
   "source": [
    "from sklearn.model_selection import GridSearchCV\n",
    "\n",
    "parametros = {'n_neighbors': [3,5,7]}\n",
    "\n",
    "modelo = GridSearchCV(KNeighborsRegressor(), parametros, \n",
    "scoring=make_scorer(mean_squared_error, greater_is_better=False,\n",
    "squared=False))\n",
    "modelo.fit(X, y)\n",
    "\n"
   ]
  },
  {
   "cell_type": "code",
   "execution_count": 10,
   "metadata": {},
   "outputs": [
    {
     "data": {
      "text/plain": [
       "{'mean_fit_time': array([0.00340137, 0.00160093, 0.001682  ]),\n",
       " 'std_fit_time': array([0.00420162, 0.00320187, 0.00336399]),\n",
       " 'mean_score_time': array([0., 0., 0.]),\n",
       " 'std_score_time': array([0., 0., 0.]),\n",
       " 'param_n_neighbors': masked_array(data=[3, 5, 7],\n",
       "              mask=[False, False, False],\n",
       "        fill_value='?',\n",
       "             dtype=object),\n",
       " 'params': [{'n_neighbors': 3}, {'n_neighbors': 5}, {'n_neighbors': 7}],\n",
       " 'split0_test_score': array([-58.07341774, -56.2778101 , -56.99180879]),\n",
       " 'split1_test_score': array([-67.43002106, -63.42066441, -62.93518794]),\n",
       " 'split2_test_score': array([-62.28861222, -59.63695849, -59.57483095]),\n",
       " 'split3_test_score': array([-62.02315061, -59.59086644, -55.63774296]),\n",
       " 'split4_test_score': array([-67.25015489, -61.70551029, -60.43146504]),\n",
       " 'mean_test_score': array([-63.41307131, -60.12636195, -59.11420714]),\n",
       " 'std_test_score': array([3.53743647, 2.3951518 , 2.5743976 ]),\n",
       " 'rank_test_score': array([3, 2, 1])}"
      ]
     },
     "execution_count": 10,
     "metadata": {},
     "output_type": "execute_result"
    }
   ],
   "source": [
    "modelo.cv_results_"
   ]
  },
  {
   "cell_type": "code",
   "execution_count": 11,
   "metadata": {},
   "outputs": [
    {
     "data": {
      "text/plain": [
       "KNeighborsRegressor(n_neighbors=7)"
      ]
     },
     "execution_count": 11,
     "metadata": {},
     "output_type": "execute_result"
    }
   ],
   "source": [
    "modelo.best_estimator_"
   ]
  },
  {
   "cell_type": "code",
   "execution_count": 12,
   "metadata": {},
   "outputs": [
    {
     "data": {
      "text/plain": [
       "51.15149901888715"
      ]
     },
     "execution_count": 12,
     "metadata": {},
     "output_type": "execute_result"
    }
   ],
   "source": [
    "from sklearn.metrics import mean_squared_error\n",
    "from math import sqrt\n",
    "\n",
    "ypred = modelo.predict(X)\n",
    "mse = mean_squared_error(y, ypred)\n",
    "sqrt(mse)\n"
   ]
  },
  {
   "cell_type": "code",
   "execution_count": 14,
   "metadata": {},
   "outputs": [
    {
     "name": "stdout",
     "output_type": "stream",
     "text": [
      "[-56.99180879 -62.93518794 -59.57483095 -55.63774296 -60.43146504]\n",
      "Sem padronização: -59.114207135103996\n"
     ]
    }
   ],
   "source": [
    "scores = cross_validate(modelo, X, y, scoring=make_scorer\n",
    "(mean_squared_error, greater_is_better=False, squared=False))\n",
    "print(scores['test_score'])\n",
    "sempad = np.mean(scores['test_score'])\n",
    "print(f\"Sem padronização: {sempad}\")"
   ]
  },
  {
   "cell_type": "code",
   "execution_count": 20,
   "metadata": {},
   "outputs": [
    {
     "name": "stdout",
     "output_type": "stream",
     "text": [
      "[-56.82092904 -63.05450375 -60.15515846 -54.92728369 -59.33477082]\n",
      "Com padronização: -58.858529150715086\n"
     ]
    }
   ],
   "source": [
    "from sklearn.preprocessing import StandardScaler\n",
    "from sklearn.pipeline import Pipeline\n",
    "\n",
    "parametros = {'n_neighbors': [3,5,7]}\n",
    "\n",
    "GridSearchKNN = GridSearchCV(KNeighborsRegressor(), parametros, \n",
    "scoring='neg_mean_squared_error')\n",
    "\n",
    "modelo = Pipeline([\n",
    "    (\"padronizacao\", StandardScaler()),\n",
    "    (\"gsknn\", GridSearchKNN)\n",
    "])\n",
    "\n",
    "scores = cross_validate(modelo, X, y, scoring=make_scorer\n",
    "(mean_squared_error, greater_is_better=False, squared=False))\n",
    "print(scores['test_score'])\n",
    "compad = np.mean(scores['test_score'])\n",
    "print(f\"Com padronização: {compad}\")"
   ]
  },
  {
   "cell_type": "code",
   "execution_count": 22,
   "metadata": {},
   "outputs": [
    {
     "name": "stdout",
     "output_type": "stream",
     "text": [
      "[-56.82092904 -63.05450375 -60.15515846 -54.92728369 -59.33477082]\n",
      "Com padronização: -58.858529150715086\n"
     ]
    }
   ],
   "source": [
    "\n",
    "pipeline = Pipeline([\n",
    "    (\"padronizacao\", StandardScaler()),\n",
    "    (\"knn\", KNeighborsRegressor())\n",
    "])\n",
    "\n",
    "parametros = {'knn__n_neighbors': [3,5,7]}\n",
    "modelo = GridSearchCV(pipeline, parametros, \n",
    "scoring='neg_mean_squared_error')\n",
    "\n",
    "scores = cross_validate(modelo, X, y, scoring=make_scorer\n",
    "(mean_squared_error, greater_is_better=False, squared=False))\n",
    "print(scores['test_score'])\n",
    "compad = np.mean(scores['test_score'])\n",
    "print(f\"Com padronização: {compad}\")"
   ]
  }
 ],
 "metadata": {
  "interpreter": {
   "hash": "6a5cd576f049c40808befa6b86db46ed2a04adf484378ead481f8d7a8b894f57"
  },
  "kernelspec": {
   "display_name": "Python 3.9.5 64-bit (system)",
   "language": "python",
   "name": "python3"
  },
  "language_info": {
   "codemirror_mode": {
    "name": "ipython",
    "version": 3
   },
   "file_extension": ".py",
   "mimetype": "text/x-python",
   "name": "python",
   "nbconvert_exporter": "python",
   "pygments_lexer": "ipython3",
   "version": "3.9.5"
  },
  "orig_nbformat": 4
 },
 "nbformat": 4,
 "nbformat_minor": 2
}
