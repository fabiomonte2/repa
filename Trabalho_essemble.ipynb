{
 "cells": [
  {
   "cell_type": "code",
   "execution_count": 3,
   "metadata": {},
   "outputs": [
    {
     "data": {
      "text/plain": [
       "((11314, 130107), (11314,))"
      ]
     },
     "execution_count": 3,
     "metadata": {},
     "output_type": "execute_result"
    }
   ],
   "source": [
    "from sklearn.datasets import fetch_20newsgroups_vectorized\n",
    "X, y = fetch_20newsgroups_vectorized(return_X_y=True)\n",
    "X.shape, y.shape"
   ]
  },
  {
   "cell_type": "code",
   "execution_count": 4,
   "metadata": {},
   "outputs": [
    {
     "data": {
      "text/plain": [
       "((8485, 130107), (2829, 130107), (8485,), (2829,))"
      ]
     },
     "execution_count": 4,
     "metadata": {},
     "output_type": "execute_result"
    }
   ],
   "source": [
    "from sklearn.model_selection import train_test_split\n",
    "X_treino, X_teste, y_treino, y_teste = train_test_split(X, y, random_state=42)\n",
    "X_treino.shape, X_teste.shape, y_treino.shape, y_teste.shape"
   ]
  },
  {
   "cell_type": "markdown",
   "metadata": {},
   "source": [
    "## Escolha três algoritmos de classificação"
   ]
  },
  {
   "cell_type": "code",
   "execution_count": 5,
   "metadata": {},
   "outputs": [
    {
     "data": {
      "text/plain": [
       "(array([ True, False, False, ...,  True,  True, False]), 0.5563803464121597)"
      ]
     },
     "execution_count": 5,
     "metadata": {},
     "output_type": "execute_result"
    }
   ],
   "source": [
    "#testando o classificador KNN\n",
    "from sklearn.neighbors import KNeighborsClassifier\n",
    "modelo = KNeighborsClassifier()\n",
    "modelo.fit(X_treino, y_treino)\n",
    "knn_pr = modelo.predict(X_teste)\n",
    "knnhits = knn_pr == y_teste\n",
    "knnhits, sum(knnhits)/len(knnhits)"
   ]
  },
  {
   "cell_type": "code",
   "execution_count": 6,
   "metadata": {},
   "outputs": [
    {
     "name": "stderr",
     "output_type": "stream",
     "text": [
      "c:\\Users\\fabio\\OneDrive\\Área de Trabalho\\REPA\\.venv\\lib\\site-packages\\sklearn\\linear_model\\_logistic.py:814: ConvergenceWarning: lbfgs failed to converge (status=1):\n",
      "STOP: TOTAL NO. of ITERATIONS REACHED LIMIT.\n",
      "\n",
      "Increase the number of iterations (max_iter) or scale the data as shown in:\n",
      "    https://scikit-learn.org/stable/modules/preprocessing.html\n",
      "Please also refer to the documentation for alternative solver options:\n",
      "    https://scikit-learn.org/stable/modules/linear_model.html#logistic-regression\n",
      "  n_iter_i = _check_optimize_result(\n"
     ]
    },
    {
     "data": {
      "text/plain": [
       "(array([ True,  True,  True, ...,  True,  True,  True]), 0.7925061859314245)"
      ]
     },
     "execution_count": 6,
     "metadata": {},
     "output_type": "execute_result"
    }
   ],
   "source": [
    "#testando o classificador Logistic Regression\n",
    "from sklearn.linear_model import LogisticRegression\n",
    "modelo = LogisticRegression()\n",
    "modelo.fit(X_treino, y_treino)\n",
    "lgr_pr = modelo.predict(X_teste)\n",
    "lgrhits = lgr_pr == y_teste\n",
    "lgrhits, sum(lgrhits)/len(lgrhits)"
   ]
  },
  {
   "cell_type": "code",
   "execution_count": 7,
   "metadata": {},
   "outputs": [
    {
     "data": {
      "text/plain": [
       "(array([ True,  True,  True, ...,  True,  True,  True]), 0.8525980911983033)"
      ]
     },
     "execution_count": 7,
     "metadata": {},
     "output_type": "execute_result"
    }
   ],
   "source": [
    "# testando com o classificador Perceptrom\n",
    "from sklearn.linear_model import Perceptron\n",
    "modelo = Perceptron()\n",
    "modelo.fit(X_treino, y_treino)\n",
    "per_pr = modelo.predict(X_teste)\n",
    "perhits = per_pr == y_teste\n",
    "perhits, sum(perhits)/len(perhits)"
   ]
  },
  {
   "cell_type": "code",
   "execution_count": 8,
   "metadata": {},
   "outputs": [
    {
     "data": {
      "text/plain": [
       "array([[ True,  True,  True],\n",
       "       [False,  True,  True],\n",
       "       [False,  True,  True],\n",
       "       ...,\n",
       "       [ True,  True,  True],\n",
       "       [ True,  True,  True],\n",
       "       [False,  True,  True]])"
      ]
     },
     "execution_count": 8,
     "metadata": {},
     "output_type": "execute_result"
    }
   ],
   "source": [
    "import numpy as np\n",
    "hits = np.stack((knnhits, lgrhits, perhits))\n",
    "hits.T"
   ]
  },
  {
   "cell_type": "code",
   "execution_count": 9,
   "metadata": {},
   "outputs": [
    {
     "data": {
      "text/plain": [
       "array([[ 8,  8,  8],\n",
       "       [ 0,  1,  1],\n",
       "       [18, 10, 10],\n",
       "       ...,\n",
       "       [ 7,  7,  7],\n",
       "       [ 4,  4,  4],\n",
       "       [15, 14, 14]])"
      ]
     },
     "execution_count": 9,
     "metadata": {},
     "output_type": "execute_result"
    }
   ],
   "source": [
    "y_pr = np.stack((knn_pr, lgr_pr, per_pr))\n",
    "y_pr.T"
   ]
  },
  {
   "cell_type": "code",
   "execution_count": 10,
   "metadata": {},
   "outputs": [
    {
     "data": {
      "text/plain": [
       "(array([ True,  True,  True, ...,  True,  True,  True]), 0.8253799929303641)"
      ]
     },
     "execution_count": 10,
     "metadata": {},
     "output_type": "execute_result"
    }
   ],
   "source": [
    "# COMBINAÇÃO DOS CLASSIFICADORES\n",
    "from scipy import stats\n",
    "y_pr = stats.mode(y_pr)[0][0]\n",
    "vohits = y_pr == y_teste  #acertos do hits\n",
    "vohits, sum(vohits)/len(vohits)\n"
   ]
  },
  {
   "cell_type": "markdown",
   "metadata": {},
   "source": [
    "## Combine os classificadores de duas formas diferentes"
   ]
  },
  {
   "cell_type": "code",
   "execution_count": 11,
   "metadata": {},
   "outputs": [
    {
     "name": "stderr",
     "output_type": "stream",
     "text": [
      "c:\\Users\\fabio\\OneDrive\\Área de Trabalho\\REPA\\.venv\\lib\\site-packages\\sklearn\\linear_model\\_logistic.py:814: ConvergenceWarning: lbfgs failed to converge (status=1):\n",
      "STOP: TOTAL NO. of ITERATIONS REACHED LIMIT.\n",
      "\n",
      "Increase the number of iterations (max_iter) or scale the data as shown in:\n",
      "    https://scikit-learn.org/stable/modules/preprocessing.html\n",
      "Please also refer to the documentation for alternative solver options:\n",
      "    https://scikit-learn.org/stable/modules/linear_model.html#logistic-regression\n",
      "  n_iter_i = _check_optimize_result(\n"
     ]
    },
    {
     "data": {
      "text/plain": [
       "(array([ True,  True,  True, ...,  True,  True,  True]), 0.8253799929303641)"
      ]
     },
     "execution_count": 11,
     "metadata": {},
     "output_type": "execute_result"
    }
   ],
   "source": [
    "#Combinando os classificadores através do VotingClassifier\n",
    "from sklearn.ensemble import VotingClassifier\n",
    "modelo = VotingClassifier([\n",
    "('knn', KNeighborsClassifier()),\n",
    "('logistic', LogisticRegression()),\n",
    "('perceptron', Perceptron())\n",
    "])\n",
    "modelo.fit(X_treino, y_treino)\n",
    "vo_pr = modelo.predict(X_teste)\n",
    "vohits = vo_pr == y_teste\n",
    "vohits, sum(vohits)/len(vohits)"
   ]
  },
  {
   "cell_type": "code",
   "execution_count": 12,
   "metadata": {},
   "outputs": [
    {
     "name": "stderr",
     "output_type": "stream",
     "text": [
      "c:\\Users\\fabio\\OneDrive\\Área de Trabalho\\REPA\\.venv\\lib\\site-packages\\sklearn\\linear_model\\_logistic.py:814: ConvergenceWarning: lbfgs failed to converge (status=1):\n",
      "STOP: TOTAL NO. of ITERATIONS REACHED LIMIT.\n",
      "\n",
      "Increase the number of iterations (max_iter) or scale the data as shown in:\n",
      "    https://scikit-learn.org/stable/modules/preprocessing.html\n",
      "Please also refer to the documentation for alternative solver options:\n",
      "    https://scikit-learn.org/stable/modules/linear_model.html#logistic-regression\n",
      "  n_iter_i = _check_optimize_result(\n"
     ]
    },
    {
     "data": {
      "text/plain": [
       "(array([ True, False, False, ...,  True,  True, False]), 0.7635206786850477)"
      ]
     },
     "execution_count": 12,
     "metadata": {},
     "output_type": "execute_result"
    }
   ],
   "source": [
    "# verificar se o classificador é bom ou ruim usando uma arvore de decisao e comparando a acurácia\n",
    "from sklearn.tree import DecisionTreeClassifier\n",
    "modelo = VotingClassifier([\n",
    "('knn', KNeighborsClassifier()),\n",
    "('logistic', LogisticRegression()),\n",
    "('arvore', DecisionTreeClassifier())\n",
    "])\n",
    "modelo.fit(X_treino, y_treino)\n",
    "vo_pr = modelo.predict(X_teste)\n",
    "vohits = vo_pr == y_teste\n",
    "vohits, sum(vohits)/len(vohits)\n"
   ]
  },
  {
   "cell_type": "code",
   "execution_count": 13,
   "metadata": {},
   "outputs": [
    {
     "data": {
      "text/plain": [
       "(array([ True, False, False, ..., False,  True, False]), 0.6284906327324142)"
      ]
     },
     "execution_count": 13,
     "metadata": {},
     "output_type": "execute_result"
    }
   ],
   "source": [
    "# testando a arvore sozinha \n",
    "modelo = DecisionTreeClassifier(random_state=42)\n",
    "modelo.fit(X_treino, y_treino)\n",
    "dt_pr = modelo.predict(X_teste)\n",
    "dthits = dt_pr == y_teste\n",
    "dthits, sum(dthits)/len(dthits)\n"
   ]
  },
  {
   "cell_type": "code",
   "execution_count": 14,
   "metadata": {},
   "outputs": [],
   "source": [
    "import warnings\n",
    "warnings.filterwarnings('ignore')"
   ]
  },
  {
   "cell_type": "code",
   "execution_count": 19,
   "metadata": {},
   "outputs": [
    {
     "data": {
      "text/plain": [
       "(array([ True,  True, False, ..., False,  True, False]), 0.6709084482149169)"
      ]
     },
     "execution_count": 19,
     "metadata": {},
     "output_type": "execute_result"
    }
   ],
   "source": [
    "#Combinando os classificadores através do StackingClassifier\n",
    "\n",
    "from sklearn.ensemble import StackingClassifier\n",
    "voting = VotingClassifier([\n",
    "('knn', KNeighborsClassifier()),\n",
    "('logistic', LogisticRegression()),\n",
    "('perceptron', Perceptron())\n",
    "])\n",
    "\n",
    "modelo = StackingClassifier([\n",
    "('voting', voting),\n",
    "('arvore', DecisionTreeClassifier(random_state=42)),\n",
    "], cv=3, passthrough=True)\n",
    "modelo.fit(X_treino, y_treino)\n",
    "sc_pr = modelo.predict(X_teste)\n",
    "schits = sc_pr == y_teste\n",
    "schits, sum(schits)/len(schits)"
   ]
  },
  {
   "cell_type": "markdown",
   "metadata": {},
   "source": [
    "## usando Gridsearch para ajustar os parêmetros"
   ]
  },
  {
   "cell_type": "code",
   "execution_count": 22,
   "metadata": {},
   "outputs": [],
   "source": [
    "from sklearn.model_selection import GridSearchCV\n",
    "\n",
    "parametros = {\n",
    "    'atributosDesejados__excluirName': [True, False],\n",
    "    'classificador__max_depth': [5]\n",
    "}\n",
    "modelo = GridSearchCV(modelo, param_grid=parametros)"
   ]
  }
 ],
 "metadata": {
  "interpreter": {
   "hash": "6a5cd576f049c40808befa6b86db46ed2a04adf484378ead481f8d7a8b894f57"
  },
  "kernelspec": {
   "display_name": "Python 3.9.5 64-bit (system)",
   "language": "python",
   "name": "python3"
  },
  "language_info": {
   "codemirror_mode": {
    "name": "ipython",
    "version": 3
   },
   "file_extension": ".py",
   "mimetype": "text/x-python",
   "name": "python",
   "nbconvert_exporter": "python",
   "pygments_lexer": "ipython3",
   "version": "3.9.5"
  },
  "orig_nbformat": 4
 },
 "nbformat": 4,
 "nbformat_minor": 2
}
